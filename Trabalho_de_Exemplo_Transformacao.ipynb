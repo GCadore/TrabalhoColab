{
  "cells": [
    {
      "cell_type": "markdown",
      "metadata": {
        "id": "view-in-github",
        "colab_type": "text"
      },
      "source": [
        "<a href=\"https://colab.research.google.com/github/GCadore/TrabalhoColab/blob/main/Trabalho_de_Exemplo_Transformacao.ipynb\" target=\"_parent\"><img src=\"https://colab.research.google.com/assets/colab-badge.svg\" alt=\"Open In Colab\"/></a>"
      ]
    },
    {
      "cell_type": "markdown",
      "metadata": {
        "id": "WhZZ4pWiNx7l"
      },
      "source": [
        "Universidade do Vale do Itajaí<br>\n",
        "Escola do Mar, Ciência e Tecnologia<br>\n",
        "Professor Felipe Viel\n",
        "\n",
        "# Exemplo de Operações Pontuais e Filtro em OpenCV\n",
        "\n",
        "### Tutoriais da OpenCV\n",
        "\n",
        "- https://docs.opencv.org/master/d9/df8/tutorial_root.html\n",
        "- https://www.geeksforgeeks.org/opencv-python-tutorial/"
      ]
    },
    {
      "cell_type": "markdown",
      "metadata": {
        "id": "8KzyJbE-Nx7q"
      },
      "source": [
        "## Conversão de imagem RGB em imagem Grayscale"
      ]
    },
    {
      "cell_type": "code",
      "execution_count": null,
      "metadata": {
        "id": "SPRHcibRNx7s"
      },
      "outputs": [],
      "source": [
        "import cv2 #importa a biblioteca cv2 da OpenCV para poder utilizar as funções e classes da mesma\n",
        "import numpy as np #importa a biblioteca numpy com o 'apelido' np para encurtar a forma de acessar as funções da biblioteca. A biblioteca numpy possui diversas funções para calculo matemático e estatístico.\n",
        "import matplotlib.pyplot as plt  #importa apenas a parte pyplot da biblioteca matplotlib como plt, para acessar as funções desse módulo de forma mais curta. O pyplot possui diversas funções para criar graficos e colocar dados em graficos\n",
        "#caso for usar o Google Colab com a OpenCV, usar a lib abaixo\n",
        "from google.colab.patches import cv2_imshow #A função cv2_imshow nativamente é imcompativel com o ambiente do google colab, para corrigir importamos a função do módulo google.colab.patches para que a imagem seja exibida dentro notebook do colab.\n"
      ]
    },
    {
      "cell_type": "code",
      "execution_count": null,
      "metadata": {
        "id": "QotrNpurNx7u"
      },
      "outputs": [],
      "source": [
        "#abrir a imagem\n",
        "img = cv2.imread('t1.jpg',1) #A função  cv2.imread() lê a imagem t1.jpg, a função lê a imagem como colorida devido ao argumento 1 após a virgula, após essa leitura a informação é atribuida a variavel img.\n",
        "#caso for usar o Google Colab com a OpenCV,\n",
        "cv2_imshow(img) #exibe a imagem guardada na variavel img na tela quando se estiver usando o google colab."
      ]
    },
    {
      "cell_type": "code",
      "execution_count": null,
      "metadata": {
        "id": "VLSzKpTtNx7v"
      },
      "outputs": [],
      "source": [
        "#mostrando a imagem colorida - caso você use Python no seu computador\n",
        "#reutilize para exibir as imagens em outros códigos\n",
        "#Voce pode descomentar o código apagando as aspas simples\n",
        "'''\n",
        "cv2.imshow('in', img) #A função cv2.imshow() utiliza de dois argumentos o primeiro é o nome da janela que abrirá com a imagem e o segundo é a imagem que vai ser carregada, nesse caso a janela vai ter o nome in e a imagem a ser carrega é a que esta guardada na variavel img\n",
        "cv2.waitKey(0) #A função cv2.waitKey() faz com que o codigo espere uma quantidade de milissigundos determinado pelo argumento dentro dos parenteses, quando é declarado como 0, a função espera até que o usuario clique qualquer tecla para prosseguir o codigo\n",
        "cv2.destroyAllWindows() #esse comando fecha todas as janelas criadas pela biblioteca cv2\n",
        "'''"
      ]
    },
    {
      "cell_type": "code",
      "execution_count": null,
      "metadata": {
        "id": "G2Q1PN3QNx7y"
      },
      "outputs": [],
      "source": [
        "#aplicando conversão ponderada - converte imagem colorida para preto e branco\n",
        "#img_grayscale_basic = 0.299*img[ : , : ,0] + 0.587*img[ : , : ,1] + 0.114*img[ : , : ,2]\n",
        "\n",
        "#cv2\n",
        "B, G, R = cv2.split(img) #A função separa a imagem em três canais de cores difretens e atribui as variaves: B(azul), G(verde), R(vermelho).\n",
        "img_grayscale_pondered = 0.299*B+0.587*G+0.114*R #transforma a imagem original em uma versão em preto e branco. os canais de cor estão sendo multiplicados e depoois somados para criar a imagem em preto e branco, os valores multiplicando os canais fazem parte de uma formula para a converção da imagem.\n",
        "\n",
        "img_grayscale_pondered = np.array(img_grayscale_pondered, dtype=np.uint8) #transforma a variavel img_grayscale_pondered em uma matriz numpy. a função np.array() utiliza a img_grayscale_pondered como referencia de valores para a matriz e depois define o tipo de dado como np.uint8 que são.\n",
        " #(ainda sobre a linha de cima), numeros inteiros positivos de 8 bits de 0 até 255, se faz isso para garantir que os valores da matriz estejam dentro dos valores validos para uma imagem em preto e branco arrendondando os valores que ques estão abaixo de 0 para 0 e os que estão acima de 255 para 255.\n",
        "cv2_imshow(img_grayscale_pondered) # a função exibe na tela a imagem em escala de cinza, dessa vez sem nomear a janela que exibirá a imagem.\n"
      ]
    },
    {
      "cell_type": "markdown",
      "metadata": {
        "id": "bA2JoZjXNx78"
      },
      "source": [
        "## Transformações"
      ]
    },
    {
      "cell_type": "code",
      "execution_count": null,
      "metadata": {
        "id": "QGSulCVYNx78"
      },
      "outputs": [],
      "source": [
        "#negativo\n",
        "\n",
        "#img_negative[ : , : ,0] = 255 - img[ : , : ,0]   #a variavel img_negative[ : , : ,0] recebe a operação de negativo do canal Blue.\n",
        "#img_negative[ : , : ,1] = 255 - img[ : , : ,1]   #a variavel img_negative[ : , : ,1] recebe a operação de negativo do canal Green.\n",
        "#img_negative[ : , : ,2] = 255 - img[ : , : ,2]   #a variavel img_negative[ : , : ,2] recebe a operação de negativo do canal Red.\n",
        "\n",
        "#Mude a variavel colorida para 1 caso queira colorida, o para 0 caso queira em escala de cinza.\n",
        "colorida = 1 #a variavel colorida recebe o valor 1\n",
        "img_in = cv2.imread('t1.jpg',colorida) # A função  cv2.imread() Lê a imagem t1.jpg e ao invés de usar 1,0 ou -1 como argumento de como a imagem vai ser lida, foi utilizada a variavel para que seja nescessario mudar o valor da variavel apenas. Nete caso a imagem é lida como colorida. E guarda na variavel img_in.\n",
        "\n",
        "img_out = 255 - img_in # Realiza a operação de negativo subtraindo o falor 255 de todos os pixels dos canais de cores e guarda a imagem gerada dessa operação na variavel img_out.\n",
        "\n",
        "cv2_imshow(img_in) # a função exibe na tela a imagem em original que foi usada para gerar o negativo.\n",
        "cv2_imshow(img_out)# a função exibe na tela a imagem em negativo."
      ]
    },
    {
      "cell_type": "code",
      "execution_count": null,
      "metadata": {
        "id": "HMELaw10Nx8B"
      },
      "outputs": [],
      "source": [
        "#contraste e brilho\n",
        "img_in = cv2.imread('t1.jpg',0) #A função lê a imagem t1.jpg em escala de cinza e atribui a informação na variavel imga_in\n",
        "#altere os valores tanto de a quanto de b\n",
        "\n",
        "a = -1 # o variavel a vai controlar o contraste da imagem, quando positivo aumenta e quando negativo diminui o contraste.\n",
        "b = 1 # a variavel b controla o brilho da imagem\n",
        "\n",
        "img_out = a*img_in + b # essa operação multiplica todos os pixels da imagem original pelo valor da variavel a, diminuindo o contraste da imagem. após isso b é somado em cada um dos pixels da imagem aumentando o brilho. O resultado é guardado na variavel img_out.\n",
        "\n",
        "img_out = np.array(img_out, dtype = np.uint8) #convete a matriz img_out para uma matriz numpy e verifica se os termos da matriz estão dentro da faixa de valores do tipo unsigned integer de 8 bits. se algum tuermo for menor que 0 esse valor será arredondado para 0, e se for maior que 255 será arredondado para 255.\n",
        "\n",
        "cv2_imshow(img_in) #exibe a imagem original usada para aplicar as transformações.\n",
        "cv2_imshow(img_out) #exibe a imagem após as transformações."
      ]
    },
    {
      "cell_type": "markdown",
      "metadata": {
        "id": "W8UZXLnRNx8E"
      },
      "source": [
        "## Filtro Espacial"
      ]
    },
    {
      "cell_type": "code",
      "execution_count": null,
      "metadata": {
        "id": "hWxjlsd9Nx8F"
      },
      "outputs": [],
      "source": [
        "#suavização\n",
        "#você pode ler sobre o conceito aqui: https://docs.opencv.org/4.x/d4/d13/tutorial_py_filtering.html\n",
        "img_in = cv2.imread('t1.jpg',0) # a função cv2.imgread() lê a imagem t1.jpg em escalda de cinza e guarda a informação na variavel img_in.\n",
        "\n",
        "kernel = np.ones((5,5),np.float32)/25 # cria um kernel é uma matriz para fazer operações em uma imagem, a matriz criada é uma matriz 5x5 onde todos os termos são numeros 1 e o tipo de dado dessa matríz é float, após isso a matriz é dividad por 25 para normalizar o kernel.\n",
        "\n",
        "img_out_1 = cv2.filter2D(img_in,-1,kernel) # a função  cv2.filter2D() é utilziada para aplicar o filtro kernel na imagem , o primeiro argumento diz respeito a qual imagem vai ser usada para aplicar o filtro. O segundo termo diz respeito a profundidade da nova imagem gerada, por causa do argumento ser -1 a profundidade vai ser a mesma da imagem original. O terceiro argumento é  o filtro que vai ser aplicado na imagem. após a aplicação do filtro a nova imagem gerada é guardada na variavel img_out_1\n",
        "\n",
        "\n",
        "cv2_imshow(img_in) #exibe na tela a imagem original sem o efeito aplicado.\n",
        "cv2_imshow(img_out_1) #exibe na tela a imagem com o efeito de covolução.\n",
        "\n"
      ]
    }
  ],
  "metadata": {
    "kernelspec": {
      "display_name": "Python 3",
      "language": "python",
      "name": "python3"
    },
    "language_info": {
      "codemirror_mode": {
        "name": "ipython",
        "version": 3
      },
      "file_extension": ".py",
      "mimetype": "text/x-python",
      "name": "python",
      "nbconvert_exporter": "python",
      "pygments_lexer": "ipython3",
      "version": "3.8.5"
    },
    "colab": {
      "provenance": [],
      "include_colab_link": true
    }
  },
  "nbformat": 4,
  "nbformat_minor": 0
}